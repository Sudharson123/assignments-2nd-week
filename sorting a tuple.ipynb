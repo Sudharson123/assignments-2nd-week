{
 "cells": [
  {
   "cell_type": "code",
   "execution_count": 1,
   "id": "7f7dcde1",
   "metadata": {},
   "outputs": [
    {
     "data": {
      "text/plain": [
       "[(2, 1), (1, 2), (2, 3), (4, 4), (2, 5)]"
      ]
     },
     "execution_count": 1,
     "metadata": {},
     "output_type": "execute_result"
    }
   ],
   "source": [
    "l= [(2, 5), (1, 2), (4, 4), (2, 3), (2, 1)]\n",
    "sorted(l,key=lambda l:l[1])"
   ]
  },
  {
   "cell_type": "code",
   "execution_count": null,
   "id": "9fe2645c",
   "metadata": {},
   "outputs": [],
   "source": []
  }
 ],
 "metadata": {
  "kernelspec": {
   "display_name": "Python 3 (ipykernel)",
   "language": "python",
   "name": "python3"
  },
  "language_info": {
   "codemirror_mode": {
    "name": "ipython",
    "version": 3
   },
   "file_extension": ".py",
   "mimetype": "text/x-python",
   "name": "python",
   "nbconvert_exporter": "python",
   "pygments_lexer": "ipython3",
   "version": "3.9.5"
  }
 },
 "nbformat": 4,
 "nbformat_minor": 5
}
